{
 "cells": [
  {
   "cell_type": "code",
   "execution_count": 1,
   "metadata": {},
   "outputs": [
    {
     "name": "stdout",
     "output_type": "stream",
     "text": [
      "Collecting algorithms\n",
      "  Downloading https://files.pythonhosted.org/packages/5c/b9/aed4e46602c56bc6021e29af5fb543af7bfe52599482ce786e538453c1e5/algorithms-0.1.3-py3-none-any.whl (132kB)\n",
      "Installing collected packages: algorithms\n",
      "Successfully installed algorithms-0.1.3\n"
     ]
    }
   ],
   "source": [
    "import sys\n",
    "!{sys.executable} -m pip install algorithms"
   ]
  },
  {
   "cell_type": "code",
   "execution_count": 3,
   "metadata": {},
   "outputs": [
    {
     "name": "stdout",
     "output_type": "stream",
     "text": [
      "[1, 3, 5, 6, 8]\n"
     ]
    }
   ],
   "source": [
    "from algorithms.sort import merge_sort\n",
    "\n",
    "if __name__ == \"__main__\":\n",
    "    my_list = [1, 8, 3, 5, 6]\n",
    "    my_list = merge_sort(my_list)\n",
    "    print(my_list)"
   ]
  },
  {
   "cell_type": "code",
   "execution_count": 7,
   "metadata": {},
   "outputs": [
    {
     "name": "stdout",
     "output_type": "stream",
     "text": [
      "[1, 2, 3, 1, 2, 3]\n"
     ]
    }
   ],
   "source": [
    "from algorithms.arrays import delete_nth\n",
    "\n",
    "if __name__ == \"__main__\":\n",
    "    my_list = [1,2,3,1,2,1,2,3]\n",
    "    my_list = delete_nth(my_list,2)\n",
    "    print(my_list)"
   ]
  },
  {
   "cell_type": "code",
   "execution_count": 8,
   "metadata": {},
   "outputs": [
    {
     "name": "stdout",
     "output_type": "stream",
     "text": [
      "[1, 2, 3, 1, 2, 1, 2, 3, 7, 9, 0, 7, 6, 9, 8, 7]\n"
     ]
    }
   ],
   "source": [
    "from algorithms.arrays import flatten\n",
    "\n",
    "if __name__ == \"__main__\":\n",
    "    my_list = [[1,2],[3,1],[2,1],[2,3],[7,9,0,7],[6,9,8,7]]\n",
    "    my_list = flatten(my_list)\n",
    "    print(my_list)"
   ]
  },
  {
   "cell_type": "code",
   "execution_count": 16,
   "metadata": {},
   "outputs": [
    {
     "name": "stdout",
     "output_type": "stream",
     "text": [
      "369485271"
     ]
    }
   ],
   "source": [
    "from algorithms.arrays import josephus\n",
    "\n",
    "if __name__ == \"__main__\":\n",
    "    my_list = [1,2,3,4,5,6,7,8,9]\n",
    "    my_list = josephus(my_list,3)\n",
    "    for i in (my_list):\n",
    "        print(i, end='')"
   ]
  },
  {
   "cell_type": "code",
   "execution_count": 17,
   "metadata": {},
   "outputs": [
    {
     "name": "stdout",
     "output_type": "stream",
     "text": [
      "{(-1, -1, 2), (-1, 0, 1)}\n"
     ]
    }
   ],
   "source": [
    "from algorithms.arrays import three_sum\n",
    "\n",
    "if __name__ == \"__main__\":\n",
    "    my_list =  [-1, 0, 1, 2, -1, -4]\n",
    "    my_list = three_sum(my_list)\n",
    "    print(my_list)"
   ]
  },
  {
   "cell_type": "code",
   "execution_count": 23,
   "metadata": {},
   "outputs": [
    {
     "name": "stdout",
     "output_type": "stream",
     "text": [
      "[2, -1, -4, -1, 0, 1]\n"
     ]
    }
   ],
   "source": [
    "from algorithms.arrays import rotate_v3\n",
    "\n",
    "if __name__ == \"__main__\":\n",
    "    my_list =  [-1, 0, 1, 2, -1, -4]\n",
    "    my_list = rotate_v3(my_list, 3)\n",
    "    print(my_list)"
   ]
  },
  {
   "cell_type": "code",
   "execution_count": null,
   "metadata": {},
   "outputs": [],
   "source": []
  },
  {
   "cell_type": "code",
   "execution_count": null,
   "metadata": {},
   "outputs": [],
   "source": []
  }
 ],
 "metadata": {
  "kernelspec": {
   "display_name": "Python 3",
   "language": "python",
   "name": "python3"
  },
  "language_info": {
   "codemirror_mode": {
    "name": "ipython",
    "version": 3
   },
   "file_extension": ".py",
   "mimetype": "text/x-python",
   "name": "python",
   "nbconvert_exporter": "python",
   "pygments_lexer": "ipython3",
   "version": "3.7.0"
  }
 },
 "nbformat": 4,
 "nbformat_minor": 2
}
