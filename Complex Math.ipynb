{
 "cells": [
  {
   "cell_type": "code",
   "execution_count": 1,
   "metadata": {},
   "outputs": [
    {
     "data": {
      "text/plain": [
       "3.141592653589793"
      ]
     },
     "execution_count": 1,
     "metadata": {},
     "output_type": "execute_result"
    }
   ],
   "source": [
    "from cmath import phase\n",
    "phase(complex(-1.0, 0.0))"
   ]
  },
  {
   "cell_type": "code",
   "execution_count": 2,
   "metadata": {},
   "outputs": [
    {
     "data": {
      "text/plain": [
       "-3.141592653589793"
      ]
     },
     "execution_count": 2,
     "metadata": {},
     "output_type": "execute_result"
    }
   ],
   "source": [
    "phase(complex(-1.0, -0.0))"
   ]
  },
  {
   "cell_type": "code",
   "execution_count": 4,
   "metadata": {},
   "outputs": [
    {
     "name": "stdout",
     "output_type": "stream",
     "text": [
      "<class 'complex'>\n",
      "(2+4j)\n"
     ]
    }
   ],
   "source": [
    "c1 = complex(2, 4)\n",
    "\n",
    "print(type(c1))\n",
    "print(c1)"
   ]
  },
  {
   "cell_type": "code",
   "execution_count": 5,
   "metadata": {},
   "outputs": [
    {
     "name": "stdout",
     "output_type": "stream",
     "text": [
      "Real Part = 2.0\n",
      "Imaginary Part = 4.0\n",
      "Complex conjugate = (2-4j)\n"
     ]
    }
   ],
   "source": [
    "print('Real Part =', c1.real)\n",
    "print('Imaginary Part =', c1.imag)\n",
    "print('Complex conjugate =', c1.conjugate())"
   ]
  },
  {
   "cell_type": "code",
   "execution_count": 6,
   "metadata": {},
   "outputs": [
    {
     "name": "stdout",
     "output_type": "stream",
     "text": [
      "Addition = (3+6j)\n",
      "Subtraction = (-1-2j)\n",
      "Multiplication = (-6+8j)\n",
      "Division = (2+0j)\n"
     ]
    }
   ],
   "source": [
    "c = 1 + 2j\n",
    "\n",
    "print('Addition =', c + c1)\n",
    "print('Subtraction =', c - c1)\n",
    "print('Multiplication =', c * c1)\n",
    "print('Division =', c1 / c)"
   ]
  },
  {
   "cell_type": "code",
   "execution_count": 9,
   "metadata": {},
   "outputs": [
    {
     "name": "stdout",
     "output_type": "stream",
     "text": [
      "4 + 5j Phase = 0.8960553845713439\n",
      "Phase in Degrees = 51.34019174590991\n",
      "-6 - 2j Phase = -2.819842099193151 radians. Degrees = -161.565051177078\n",
      "Complex number phase using math.atan2() = 1.1071487177940904\n"
     ]
    }
   ],
   "source": [
    "import cmath, math, numpy\n",
    "\n",
    "c = 4 + 5j\n",
    "\n",
    "# phase\n",
    "phase = cmath.phase(c)\n",
    "print('4 + 5j Phase =', phase)\n",
    "print('Phase in Degrees =', numpy.degrees(phase))\n",
    "print('-6 - 2j Phase =', cmath.phase(-6 - 2j), 'radians. Degrees =', numpy.degrees(cmath.phase(-6 - 2j)))\n",
    "\n",
    "# we can get phase using math.atan2() function too\n",
    "print('Complex number phase using math.atan2() =', math.atan2(2, 1))"
   ]
  },
  {
   "cell_type": "code",
   "execution_count": 11,
   "metadata": {},
   "outputs": [
    {
     "name": "stdout",
     "output_type": "stream",
     "text": [
      "Modulus = 4.47213595499958\n",
      "Phase = 1.1071487177940904\n",
      "Polar Coordinates = (4.47213595499958, 1.1071487177940904)\n"
     ]
    }
   ],
   "source": [
    "print('Modulus =', abs(c1))\n",
    "print('Phase =', cmath.phase(c1))\n",
    "print('Polar Coordinates =', cmath.polar(c1))"
   ]
  },
  {
   "cell_type": "code",
   "execution_count": 12,
   "metadata": {},
   "outputs": [
    {
     "name": "stdout",
     "output_type": "stream",
     "text": [
      "π = 3.141592653589793\n",
      "e = 2.718281828459045\n",
      "tau = 6.283185307179586\n",
      "Positive infinity = inf\n",
      "Positive Complex infinity = infj\n",
      "NaN = nan\n",
      "NaN Complex = nanj\n"
     ]
    }
   ],
   "source": [
    "print('π =', cmath.pi)\n",
    "print('e =', cmath.e)\n",
    "print('tau =', cmath.tau)\n",
    "print('Positive infinity =', cmath.inf)\n",
    "print('Positive Complex infinity =', cmath.infj)\n",
    "print('NaN =', cmath.nan)\n",
    "print('NaN Complex =', cmath.nanj)"
   ]
  },
  {
   "cell_type": "code",
   "execution_count": 13,
   "metadata": {},
   "outputs": [
    {
     "name": "stdout",
     "output_type": "stream",
     "text": [
      "e^c1 = (-4.829809383269385-5.5920560936409816j)\n",
      "log2(c1) = (2.1609640474436813+1.5972779646881088j)\n",
      "log10(c1) = (0.6505149978319906+0.480828578784234j)\n",
      "sqrt(c1) = (1.7989074399478673+1.1117859405028423j)\n"
     ]
    }
   ],
   "source": [
    "print('e^c1 =', cmath.exp(c1))\n",
    "print('log2(c1) =', cmath.log(c1, 2))\n",
    "print('log10(c1) =', cmath.log10(c1))\n",
    "print('sqrt(c1) =', cmath.sqrt(c1))"
   ]
  },
  {
   "cell_type": "code",
   "execution_count": 14,
   "metadata": {},
   "outputs": [
    {
     "name": "stdout",
     "output_type": "stream",
     "text": [
      "arc sine = (0.4538702099631225+2.198573027920936j)\n",
      "arc cosine = (1.1169261168317741-2.198573027920936j)\n",
      "arc tangent = (1.4670482135772953+0.20058661813123432j)\n",
      "sine = (24.83130584894638-11.356612711218174j)\n",
      "cosine = (-11.36423470640106-24.814651485634187j)\n",
      "tangent = (-0.0005079806234700387+1.0004385132020523j)\n"
     ]
    }
   ],
   "source": [
    "print('arc sine =', cmath.asin(c1))\n",
    "print('arc cosine =', cmath.acos(c1))\n",
    "print('arc tangent =', cmath.atan(c1))\n",
    "\n",
    "print('sine =', cmath.sin(c1))\n",
    "print('cosine =', cmath.cos(c1))\n",
    "print('tangent =', cmath.tan(c1))"
   ]
  },
  {
   "cell_type": "code",
   "execution_count": null,
   "metadata": {},
   "outputs": [],
   "source": []
  }
 ],
 "metadata": {
  "kernelspec": {
   "display_name": "Python 3",
   "language": "python",
   "name": "python3"
  },
  "language_info": {
   "codemirror_mode": {
    "name": "ipython",
    "version": 3
   },
   "file_extension": ".py",
   "mimetype": "text/x-python",
   "name": "python",
   "nbconvert_exporter": "python",
   "pygments_lexer": "ipython3",
   "version": "3.7.0"
  }
 },
 "nbformat": 4,
 "nbformat_minor": 2
}
