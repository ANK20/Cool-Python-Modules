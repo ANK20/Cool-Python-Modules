{
 "cells": [
  {
   "cell_type": "code",
   "execution_count": 3,
   "metadata": {},
   "outputs": [],
   "source": [
    "from forex_python.converter import CurrencyRates\n",
    "c = CurrencyRates()"
   ]
  },
  {
   "cell_type": "code",
   "execution_count": 4,
   "metadata": {},
   "outputs": [
    {
     "data": {
      "text/plain": [
       "{'AUD': 1.4352,\n",
       " 'BGN': 1.7235,\n",
       " 'BRL': 3.7728,\n",
       " 'CAD': 1.3564,\n",
       " 'CHF': 0.9886,\n",
       " 'CNY': 6.8751,\n",
       " 'CZK': 22.6322,\n",
       " 'DKK': 6.5805,\n",
       " 'EUR': 0.8812,\n",
       " 'GBP': 0.7958,\n",
       " 'HKD': 7.8326,\n",
       " 'HRK': 6.5496,\n",
       " 'HUF': 284.1117,\n",
       " 'IDR': 14410.0018,\n",
       " 'ILS': 3.7385,\n",
       " 'INR': 70.1516,\n",
       " 'ISK': 117.73,\n",
       " 'JPY': 107.693,\n",
       " 'KRW': 1127.2207,\n",
       " 'MXN': 19.5968,\n",
       " 'MYR': 4.1435,\n",
       " 'NOK': 8.734,\n",
       " 'NZD': 1.5056,\n",
       " 'PHP': 52.5899,\n",
       " 'PLN': 3.787,\n",
       " 'RON': 4.1117,\n",
       " 'RUB': 68.965,\n",
       " 'SEK': 9.0596,\n",
       " 'SGD': 1.366,\n",
       " 'THB': 32.1801,\n",
       " 'TRY': 5.4854,\n",
       " 'ZAR': 14.465}"
      ]
     },
     "execution_count": 4,
     "metadata": {},
     "output_type": "execute_result"
    }
   ],
   "source": [
    "c.get_rates('USD')"
   ]
  },
  {
   "cell_type": "code",
   "execution_count": 5,
   "metadata": {},
   "outputs": [
    {
     "data": {
      "text/plain": [
       "70.1516"
      ]
     },
     "execution_count": 5,
     "metadata": {},
     "output_type": "execute_result"
    }
   ],
   "source": [
    "c.get_rate('USD', 'INR')"
   ]
  },
  {
   "cell_type": "code",
   "execution_count": 6,
   "metadata": {},
   "outputs": [
    {
     "data": {
      "text/plain": [
       "19.5968"
      ]
     },
     "execution_count": 6,
     "metadata": {},
     "output_type": "execute_result"
    }
   ],
   "source": [
    "c.get_rate('USD', 'MXN')"
   ]
  },
  {
   "cell_type": "code",
   "execution_count": 7,
   "metadata": {},
   "outputs": [
    {
     "data": {
      "text/plain": [
       "701.5160000000001"
      ]
     },
     "execution_count": 7,
     "metadata": {},
     "output_type": "execute_result"
    }
   ],
   "source": [
    "c.convert('USD', 'INR', 10)"
   ]
  },
  {
   "cell_type": "code",
   "execution_count": 8,
   "metadata": {},
   "outputs": [
    {
     "data": {
      "text/plain": [
       "3828.6283"
      ]
     },
     "execution_count": 8,
     "metadata": {},
     "output_type": "execute_result"
    }
   ],
   "source": [
    "from forex_python.bitcoin import BtcConverter\n",
    "b = BtcConverter() # force_decimal=True to get Decimal rates\n",
    "b.get_latest_price('USD')"
   ]
  },
  {
   "cell_type": "code",
   "execution_count": 9,
   "metadata": {},
   "outputs": [
    {
     "data": {
      "text/plain": [
       "0.26123779692941096"
      ]
     },
     "execution_count": 9,
     "metadata": {},
     "output_type": "execute_result"
    }
   ],
   "source": [
    "b.convert_to_btc(1000, 'USD')"
   ]
  },
  {
   "cell_type": "code",
   "execution_count": 10,
   "metadata": {},
   "outputs": [
    {
     "data": {
      "text/plain": [
       "1.0449511877176438"
      ]
     },
     "execution_count": 10,
     "metadata": {},
     "output_type": "execute_result"
    }
   ],
   "source": [
    "b.convert_to_btc(4000, 'USD')"
   ]
  },
  {
   "cell_type": "code",
   "execution_count": 12,
   "metadata": {},
   "outputs": [
    {
     "name": "stdout",
     "output_type": "stream",
     "text": [
      "£\n",
      "$\n",
      "¥\n",
      "US$\n"
     ]
    }
   ],
   "source": [
    "from forex_python.converter import CurrencyCodes\n",
    "c = CurrencyCodes()\n",
    "print(c.get_symbol('GBP'))\n",
    "print(c.get_symbol('AUD'))\n",
    "print(c.get_symbol('JPY'))\n",
    "print(c.get_symbol('USD'))"
   ]
  },
  {
   "cell_type": "code",
   "execution_count": null,
   "metadata": {},
   "outputs": [],
   "source": []
  }
 ],
 "metadata": {
  "kernelspec": {
   "display_name": "Python 3",
   "language": "python",
   "name": "python3"
  },
  "language_info": {
   "codemirror_mode": {
    "name": "ipython",
    "version": 3
   },
   "file_extension": ".py",
   "mimetype": "text/x-python",
   "name": "python",
   "nbconvert_exporter": "python",
   "pygments_lexer": "ipython3",
   "version": "3.7.0"
  }
 },
 "nbformat": 4,
 "nbformat_minor": 2
}
